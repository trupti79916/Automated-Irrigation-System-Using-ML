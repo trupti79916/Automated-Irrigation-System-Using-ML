{
 "cells": [
  {
   "cell_type": "code",
   "execution_count": 39,
   "id": "acd20d4b",
   "metadata": {},
   "outputs": [],
   "source": [
    "import numpy as np\n",
    "import pandas as pd\n",
    "import tensorflow\n",
    "from tensorflow.keras.models import Sequential\n",
    "from tensorflow.keras.layers import Dense\n",
    "from tensorflow.keras.layers import Dense, LeakyReLU\n",
    "from tensorflow.keras.activations import linear, relu, sigmoid"
   ]
  },
  {
   "cell_type": "code",
   "execution_count": 40,
   "id": "24d1aecb",
   "metadata": {
    "scrolled": true
   },
   "outputs": [
    {
     "name": "stdout",
     "output_type": "stream",
     "text": [
      "data read successfully\n",
      "     moisture  temp  humidity  pump\n",
      "0         638    16        45     1\n",
      "1         522    18        64     1\n",
      "2         741    22        68     1\n",
      "3         798    32        90     0\n",
      "4         690    28        82     1\n",
      "..        ...   ...       ...   ...\n",
      "195       941    13        73     1\n",
      "196       902    45        97     0\n",
      "197       894    42        89     1\n",
      "198      1022    45        92     1\n",
      "199       979    10        86     1\n",
      "\n",
      "[200 rows x 4 columns]\n"
     ]
    },
    {
     "data": {
      "text/plain": [
       "Index(['moisture', 'temp', 'humidity', 'pump'], dtype='object')"
      ]
     },
     "execution_count": 40,
     "metadata": {},
     "output_type": "execute_result"
    }
   ],
   "source": [
    "df= pd.read_csv(r\"C:\\Users\\hp\\OneDrive\\Desktop\\NOTES\\Smart_irrigation_system\\dataset.csv\")\n",
    "print(\"data read successfully\")\n",
    "print(df)\n",
    "df.keys()"
   ]
  },
  {
   "cell_type": "code",
   "execution_count": 41,
   "id": "637ad38d",
   "metadata": {},
   "outputs": [
    {
     "data": {
      "text/html": [
       "<div>\n",
       "<style scoped>\n",
       "    .dataframe tbody tr th:only-of-type {\n",
       "        vertical-align: middle;\n",
       "    }\n",
       "\n",
       "    .dataframe tbody tr th {\n",
       "        vertical-align: top;\n",
       "    }\n",
       "\n",
       "    .dataframe thead th {\n",
       "        text-align: right;\n",
       "    }\n",
       "</style>\n",
       "<table border=\"1\" class=\"dataframe\">\n",
       "  <thead>\n",
       "    <tr style=\"text-align: right;\">\n",
       "      <th></th>\n",
       "      <th>moisture</th>\n",
       "      <th>temp</th>\n",
       "      <th>humidity</th>\n",
       "      <th>pump</th>\n",
       "    </tr>\n",
       "  </thead>\n",
       "  <tbody>\n",
       "    <tr>\n",
       "      <th>0</th>\n",
       "      <td>638</td>\n",
       "      <td>16</td>\n",
       "      <td>45</td>\n",
       "      <td>1</td>\n",
       "    </tr>\n",
       "    <tr>\n",
       "      <th>1</th>\n",
       "      <td>522</td>\n",
       "      <td>18</td>\n",
       "      <td>64</td>\n",
       "      <td>1</td>\n",
       "    </tr>\n",
       "    <tr>\n",
       "      <th>2</th>\n",
       "      <td>741</td>\n",
       "      <td>22</td>\n",
       "      <td>68</td>\n",
       "      <td>1</td>\n",
       "    </tr>\n",
       "    <tr>\n",
       "      <th>3</th>\n",
       "      <td>798</td>\n",
       "      <td>32</td>\n",
       "      <td>90</td>\n",
       "      <td>0</td>\n",
       "    </tr>\n",
       "    <tr>\n",
       "      <th>4</th>\n",
       "      <td>690</td>\n",
       "      <td>28</td>\n",
       "      <td>82</td>\n",
       "      <td>1</td>\n",
       "    </tr>\n",
       "  </tbody>\n",
       "</table>\n",
       "</div>"
      ],
      "text/plain": [
       "   moisture  temp  humidity  pump\n",
       "0       638    16        45     1\n",
       "1       522    18        64     1\n",
       "2       741    22        68     1\n",
       "3       798    32        90     0\n",
       "4       690    28        82     1"
      ]
     },
     "execution_count": 41,
     "metadata": {},
     "output_type": "execute_result"
    }
   ],
   "source": [
    "df.head()"
   ]
  },
  {
   "cell_type": "code",
   "execution_count": 42,
   "id": "5ae9894b",
   "metadata": {},
   "outputs": [
    {
     "name": "stdout",
     "output_type": "stream",
     "text": [
      "<class 'pandas.core.frame.DataFrame'>\n",
      "RangeIndex: 200 entries, 0 to 199\n",
      "Data columns (total 4 columns):\n",
      " #   Column    Non-Null Count  Dtype\n",
      "---  ------    --------------  -----\n",
      " 0   moisture  200 non-null    int64\n",
      " 1   temp      200 non-null    int64\n",
      " 2   humidity  200 non-null    int64\n",
      " 3   pump      200 non-null    int64\n",
      "dtypes: int64(4)\n",
      "memory usage: 6.4 KB\n"
     ]
    }
   ],
   "source": [
    "df.info()"
   ]
  },
  {
   "cell_type": "code",
   "execution_count": 43,
   "id": "0d21f0c7",
   "metadata": {},
   "outputs": [
    {
     "data": {
      "text/html": [
       "<div>\n",
       "<style scoped>\n",
       "    .dataframe tbody tr th:only-of-type {\n",
       "        vertical-align: middle;\n",
       "    }\n",
       "\n",
       "    .dataframe tbody tr th {\n",
       "        vertical-align: top;\n",
       "    }\n",
       "\n",
       "    .dataframe thead th {\n",
       "        text-align: right;\n",
       "    }\n",
       "</style>\n",
       "<table border=\"1\" class=\"dataframe\">\n",
       "  <thead>\n",
       "    <tr style=\"text-align: right;\">\n",
       "      <th></th>\n",
       "      <th>moisture</th>\n",
       "      <th>temp</th>\n",
       "      <th>humidity</th>\n",
       "      <th>pump</th>\n",
       "    </tr>\n",
       "  </thead>\n",
       "  <tbody>\n",
       "    <tr>\n",
       "      <th>count</th>\n",
       "      <td>200.000000</td>\n",
       "      <td>200.000000</td>\n",
       "      <td>200.000000</td>\n",
       "      <td>200.000000</td>\n",
       "    </tr>\n",
       "    <tr>\n",
       "      <th>mean</th>\n",
       "      <td>633.085000</td>\n",
       "      <td>27.750000</td>\n",
       "      <td>76.810000</td>\n",
       "      <td>0.630000</td>\n",
       "    </tr>\n",
       "    <tr>\n",
       "      <th>std</th>\n",
       "      <td>279.077118</td>\n",
       "      <td>10.869602</td>\n",
       "      <td>15.082483</td>\n",
       "      <td>0.484016</td>\n",
       "    </tr>\n",
       "    <tr>\n",
       "      <th>min</th>\n",
       "      <td>4.000000</td>\n",
       "      <td>10.000000</td>\n",
       "      <td>25.000000</td>\n",
       "      <td>0.000000</td>\n",
       "    </tr>\n",
       "    <tr>\n",
       "      <th>25%</th>\n",
       "      <td>500.500000</td>\n",
       "      <td>18.000000</td>\n",
       "      <td>66.000000</td>\n",
       "      <td>0.000000</td>\n",
       "    </tr>\n",
       "    <tr>\n",
       "      <th>50%</th>\n",
       "      <td>693.500000</td>\n",
       "      <td>28.000000</td>\n",
       "      <td>77.000000</td>\n",
       "      <td>1.000000</td>\n",
       "    </tr>\n",
       "    <tr>\n",
       "      <th>75%</th>\n",
       "      <td>850.750000</td>\n",
       "      <td>38.000000</td>\n",
       "      <td>89.250000</td>\n",
       "      <td>1.000000</td>\n",
       "    </tr>\n",
       "    <tr>\n",
       "      <th>max</th>\n",
       "      <td>1022.000000</td>\n",
       "      <td>45.000000</td>\n",
       "      <td>100.000000</td>\n",
       "      <td>1.000000</td>\n",
       "    </tr>\n",
       "  </tbody>\n",
       "</table>\n",
       "</div>"
      ],
      "text/plain": [
       "          moisture        temp    humidity        pump\n",
       "count   200.000000  200.000000  200.000000  200.000000\n",
       "mean    633.085000   27.750000   76.810000    0.630000\n",
       "std     279.077118   10.869602   15.082483    0.484016\n",
       "min       4.000000   10.000000   25.000000    0.000000\n",
       "25%     500.500000   18.000000   66.000000    0.000000\n",
       "50%     693.500000   28.000000   77.000000    1.000000\n",
       "75%     850.750000   38.000000   89.250000    1.000000\n",
       "max    1022.000000   45.000000  100.000000    1.000000"
      ]
     },
     "execution_count": 43,
     "metadata": {},
     "output_type": "execute_result"
    }
   ],
   "source": [
    "df.describe()"
   ]
  },
  {
   "cell_type": "code",
   "execution_count": 44,
   "id": "dca8cb39",
   "metadata": {},
   "outputs": [
    {
     "data": {
      "text/plain": [
       "moisture    0\n",
       "temp        0\n",
       "humidity    0\n",
       "pump        0\n",
       "dtype: int64"
      ]
     },
     "execution_count": 44,
     "metadata": {},
     "output_type": "execute_result"
    }
   ],
   "source": [
    "df.isnull().sum()"
   ]
  },
  {
   "cell_type": "code",
   "execution_count": 45,
   "id": "24acc145",
   "metadata": {},
   "outputs": [
    {
     "data": {
      "text/html": [
       "<div>\n",
       "<style scoped>\n",
       "    .dataframe tbody tr th:only-of-type {\n",
       "        vertical-align: middle;\n",
       "    }\n",
       "\n",
       "    .dataframe tbody tr th {\n",
       "        vertical-align: top;\n",
       "    }\n",
       "\n",
       "    .dataframe thead th {\n",
       "        text-align: right;\n",
       "    }\n",
       "</style>\n",
       "<table border=\"1\" class=\"dataframe\">\n",
       "  <thead>\n",
       "    <tr style=\"text-align: right;\">\n",
       "      <th></th>\n",
       "      <th>moisture</th>\n",
       "      <th>temp</th>\n",
       "      <th>humidity</th>\n",
       "      <th>pump</th>\n",
       "    </tr>\n",
       "  </thead>\n",
       "  <tbody>\n",
       "    <tr>\n",
       "      <th>moisture</th>\n",
       "      <td>1.000000</td>\n",
       "      <td>-0.045969</td>\n",
       "      <td>-0.053405</td>\n",
       "      <td>0.645572</td>\n",
       "    </tr>\n",
       "    <tr>\n",
       "      <th>temp</th>\n",
       "      <td>-0.045969</td>\n",
       "      <td>1.000000</td>\n",
       "      <td>0.477269</td>\n",
       "      <td>-0.231625</td>\n",
       "    </tr>\n",
       "    <tr>\n",
       "      <th>humidity</th>\n",
       "      <td>-0.053405</td>\n",
       "      <td>0.477269</td>\n",
       "      <td>1.000000</td>\n",
       "      <td>-0.379327</td>\n",
       "    </tr>\n",
       "    <tr>\n",
       "      <th>pump</th>\n",
       "      <td>0.645572</td>\n",
       "      <td>-0.231625</td>\n",
       "      <td>-0.379327</td>\n",
       "      <td>1.000000</td>\n",
       "    </tr>\n",
       "  </tbody>\n",
       "</table>\n",
       "</div>"
      ],
      "text/plain": [
       "          moisture      temp  humidity      pump\n",
       "moisture  1.000000 -0.045969 -0.053405  0.645572\n",
       "temp     -0.045969  1.000000  0.477269 -0.231625\n",
       "humidity -0.053405  0.477269  1.000000 -0.379327\n",
       "pump      0.645572 -0.231625 -0.379327  1.000000"
      ]
     },
     "execution_count": 45,
     "metadata": {},
     "output_type": "execute_result"
    }
   ],
   "source": [
    "df.corr()"
   ]
  },
  {
   "cell_type": "code",
   "execution_count": 46,
   "id": "159e3025",
   "metadata": {},
   "outputs": [],
   "source": [
    "import matplotlib.pyplot as plt\n",
    "%matplotlib inline"
   ]
  },
  {
   "cell_type": "code",
   "execution_count": 47,
   "id": "a9833bce",
   "metadata": {},
   "outputs": [
    {
     "data": {
      "text/plain": [
       "Text(0, 0.5, 'pump')"
      ]
     },
     "execution_count": 47,
     "metadata": {},
     "output_type": "execute_result"
    },
    {
     "data": {
      "image/png": "[encoded data removed]",
      "text/plain": [
       "<Figure size 432x288 with 1 Axes>"
      ]
     },
     "metadata": {
      "needs_background": "light"
     },
     "output_type": "display_data"
    }
   ],
   "source": [
    "plt.scatter(df['moisture'],df['pump'])\n",
    "plt.xlabel('moisture')\n",
    "plt.ylabel('pump')\n"
   ]
  },
  {
   "cell_type": "code",
   "execution_count": 48,
   "id": "3a89fc82",
   "metadata": {},
   "outputs": [
    {
     "data": {
      "text/plain": [
       "Text(0, 0.5, 'pump')"
      ]
     },
     "execution_count": 48,
     "metadata": {},
     "output_type": "execute_result"
    },
    {
     "data": {
      "image/png": "[encoded data removed]",
      "text/plain": [
       "<Figure size 432x288 with 1 Axes>"
      ]
     },
     "metadata": {
      "needs_background": "light"
     },
     "output_type": "display_data"
    }
   ],
   "source": [
    "plt.scatter(df['temp'],df['pump'])\n",
    "plt.xlabel('temp')\n",
    "plt.ylabel('pump')"
   ]
  },
  {
   "cell_type": "code",
   "execution_count": 49,
   "id": "8600de5b",
   "metadata": {},
   "outputs": [
    {
     "data": {
      "text/plain": [
       "Text(0, 0.5, 'pump')"
      ]
     },
     "execution_count": 49,
     "metadata": {},
     "output_type": "execute_result"
    },
    {
     "data": {
      "image/png": "[encoded data removed]",
      "text/plain": [
       "<Figure size 432x288 with 1 Axes>"
      ]
     },
     "metadata": {
      "needs_background": "light"
     },
     "output_type": "display_data"
    }
   ],
   "source": [
    "plt.scatter(df['humidity'],df['pump'])\n",
    "plt.xlabel('humidity')\n",
    "plt.ylabel('pump')"
   ]
  },
  {
   "cell_type": "code",
   "execution_count": 50,
   "id": "923018a9",
   "metadata": {},
   "outputs": [
    {
     "data": {
      "text/plain": [
       "<AxesSubplot:xlabel='moisture', ylabel='pump'>"
      ]
     },
     "execution_count": 50,
     "metadata": {},
     "output_type": "execute_result"
    },
    {
     "data": {
      "image/png": "[encoded data removed]",
      "text/plain": [
       "<Figure size 432x288 with 1 Axes>"
      ]
     },
     "metadata": {
      "needs_background": "light"
     },
     "output_type": "display_data"
    }
   ],
   "source": [
    "import seaborn as sns\n",
    "sns.regplot(x=\"moisture\" ,y=\"pump\",data=df)"
   ]
  },
  {
   "cell_type": "code",
   "execution_count": 51,
   "id": "355e94df",
   "metadata": {},
   "outputs": [],
   "source": [
    "#dividing features into independent and dependent\n",
    "#price is dependent and others are independent\n",
    "X=df.iloc[:,:-1]\n",
    "y=df.iloc[:,-1]"
   ]
  },
  {
   "cell_type": "code",
   "execution_count": 52,
   "id": "648e5db8",
   "metadata": {},
   "outputs": [
    {
     "data": {
      "text/html": [
       "<div>\n",
       "<style scoped>\n",
       "    .dataframe tbody tr th:only-of-type {\n",
       "        vertical-align: middle;\n",
       "    }\n",
       "\n",
       "    .dataframe tbody tr th {\n",
       "        vertical-align: top;\n",
       "    }\n",
       "\n",
       "    .dataframe thead th {\n",
       "        text-align: right;\n",
       "    }\n",
       "</style>\n",
       "<table border=\"1\" class=\"dataframe\">\n",
       "  <thead>\n",
       "    <tr style=\"text-align: right;\">\n",
       "      <th></th>\n",
       "      <th>moisture</th>\n",
       "      <th>temp</th>\n",
       "      <th>humidity</th>\n",
       "    </tr>\n",
       "  </thead>\n",
       "  <tbody>\n",
       "    <tr>\n",
       "      <th>0</th>\n",
       "      <td>638</td>\n",
       "      <td>16</td>\n",
       "      <td>45</td>\n",
       "    </tr>\n",
       "    <tr>\n",
       "      <th>1</th>\n",
       "      <td>522</td>\n",
       "      <td>18</td>\n",
       "      <td>64</td>\n",
       "    </tr>\n",
       "    <tr>\n",
       "      <th>2</th>\n",
       "      <td>741</td>\n",
       "      <td>22</td>\n",
       "      <td>68</td>\n",
       "    </tr>\n",
       "    <tr>\n",
       "      <th>3</th>\n",
       "      <td>798</td>\n",
       "      <td>32</td>\n",
       "      <td>90</td>\n",
       "    </tr>\n",
       "    <tr>\n",
       "      <th>4</th>\n",
       "      <td>690</td>\n",
       "      <td>28</td>\n",
       "      <td>82</td>\n",
       "    </tr>\n",
       "  </tbody>\n",
       "</table>\n",
       "</div>"
      ],
      "text/plain": [
       "   moisture  temp  humidity\n",
       "0       638    16        45\n",
       "1       522    18        64\n",
       "2       741    22        68\n",
       "3       798    32        90\n",
       "4       690    28        82"
      ]
     },
     "execution_count": 52,
     "metadata": {},
     "output_type": "execute_result"
    }
   ],
   "source": [
    "X.head()\n"
   ]
  },
  {
   "cell_type": "code",
   "execution_count": 53,
   "id": "a52d8891",
   "metadata": {},
   "outputs": [
    {
     "data": {
      "text/plain": [
       "0    1\n",
       "1    1\n",
       "2    1\n",
       "3    0\n",
       "4    1\n",
       "Name: pump, dtype: int64"
      ]
     },
     "execution_count": 53,
     "metadata": {},
     "output_type": "execute_result"
    }
   ],
   "source": [
    "y.head()"
   ]
  },
  {
   "cell_type": "code",
   "execution_count": 54,
   "id": "41ba2e6e",
   "metadata": {},
   "outputs": [],
   "source": [
    "#train test split\n",
    "from sklearn.model_selection import train_test_split\n",
    "X_train,X_test,y_train,y_test=train_test_split(X,y,test_size=0.3,random_state=42)"
   ]
  },
  {
   "cell_type": "code",
   "execution_count": 55,
   "id": "35597ac9",
   "metadata": {},
   "outputs": [
    {
     "data": {
      "text/html": [
       "<div>\n",
       "<style scoped>\n",
       "    .dataframe tbody tr th:only-of-type {\n",
       "        vertical-align: middle;\n",
       "    }\n",
       "\n",
       "    .dataframe tbody tr th {\n",
       "        vertical-align: top;\n",
       "    }\n",
       "\n",
       "    .dataframe thead th {\n",
       "        text-align: right;\n",
       "    }\n",
       "</style>\n",
       "<table border=\"1\" class=\"dataframe\">\n",
       "  <thead>\n",
       "    <tr style=\"text-align: right;\">\n",
       "      <th></th>\n",
       "      <th>moisture</th>\n",
       "      <th>temp</th>\n",
       "      <th>humidity</th>\n",
       "    </tr>\n",
       "  </thead>\n",
       "  <tbody>\n",
       "    <tr>\n",
       "      <th>169</th>\n",
       "      <td>999</td>\n",
       "      <td>30</td>\n",
       "      <td>75</td>\n",
       "    </tr>\n",
       "    <tr>\n",
       "      <th>97</th>\n",
       "      <td>837</td>\n",
       "      <td>30</td>\n",
       "      <td>67</td>\n",
       "    </tr>\n",
       "    <tr>\n",
       "      <th>31</th>\n",
       "      <td>546</td>\n",
       "      <td>32</td>\n",
       "      <td>100</td>\n",
       "    </tr>\n",
       "    <tr>\n",
       "      <th>12</th>\n",
       "      <td>507</td>\n",
       "      <td>45</td>\n",
       "      <td>92</td>\n",
       "    </tr>\n",
       "    <tr>\n",
       "      <th>35</th>\n",
       "      <td>796</td>\n",
       "      <td>21</td>\n",
       "      <td>54</td>\n",
       "    </tr>\n",
       "    <tr>\n",
       "      <th>...</th>\n",
       "      <td>...</td>\n",
       "      <td>...</td>\n",
       "      <td>...</td>\n",
       "    </tr>\n",
       "    <tr>\n",
       "      <th>106</th>\n",
       "      <td>379</td>\n",
       "      <td>23</td>\n",
       "      <td>64</td>\n",
       "    </tr>\n",
       "    <tr>\n",
       "      <th>14</th>\n",
       "      <td>703</td>\n",
       "      <td>45</td>\n",
       "      <td>96</td>\n",
       "    </tr>\n",
       "    <tr>\n",
       "      <th>92</th>\n",
       "      <td>795</td>\n",
       "      <td>15</td>\n",
       "      <td>83</td>\n",
       "    </tr>\n",
       "    <tr>\n",
       "      <th>179</th>\n",
       "      <td>937</td>\n",
       "      <td>28</td>\n",
       "      <td>82</td>\n",
       "    </tr>\n",
       "    <tr>\n",
       "      <th>102</th>\n",
       "      <td>434</td>\n",
       "      <td>19</td>\n",
       "      <td>82</td>\n",
       "    </tr>\n",
       "  </tbody>\n",
       "</table>\n",
       "<p>140 rows × 3 columns</p>\n",
       "</div>"
      ],
      "text/plain": [
       "     moisture  temp  humidity\n",
       "169       999    30        75\n",
       "97        837    30        67\n",
       "31        546    32       100\n",
       "12        507    45        92\n",
       "35        796    21        54\n",
       "..        ...   ...       ...\n",
       "106       379    23        64\n",
       "14        703    45        96\n",
       "92        795    15        83\n",
       "179       937    28        82\n",
       "102       434    19        82\n",
       "\n",
       "[140 rows x 3 columns]"
      ]
     },
     "execution_count": 55,
     "metadata": {},
     "output_type": "execute_result"
    }
   ],
   "source": [
    "X_train"
   ]
  },
  {
   "cell_type": "code",
   "execution_count": 56,
   "id": "20d9dfc6",
   "metadata": {},
   "outputs": [
    {
     "data": {
      "text/html": [
       "<div>\n",
       "<style scoped>\n",
       "    .dataframe tbody tr th:only-of-type {\n",
       "        vertical-align: middle;\n",
       "    }\n",
       "\n",
       "    .dataframe tbody tr th {\n",
       "        vertical-align: top;\n",
       "    }\n",
       "\n",
       "    .dataframe thead th {\n",
       "        text-align: right;\n",
       "    }\n",
       "</style>\n",
       "<table border=\"1\" class=\"dataframe\">\n",
       "  <thead>\n",
       "    <tr style=\"text-align: right;\">\n",
       "      <th></th>\n",
       "      <th>moisture</th>\n",
       "      <th>temp</th>\n",
       "      <th>humidity</th>\n",
       "    </tr>\n",
       "  </thead>\n",
       "  <tbody>\n",
       "    <tr>\n",
       "      <th>95</th>\n",
       "      <td>843</td>\n",
       "      <td>41</td>\n",
       "      <td>92</td>\n",
       "    </tr>\n",
       "    <tr>\n",
       "      <th>15</th>\n",
       "      <td>716</td>\n",
       "      <td>25</td>\n",
       "      <td>64</td>\n",
       "    </tr>\n",
       "    <tr>\n",
       "      <th>30</th>\n",
       "      <td>661</td>\n",
       "      <td>35</td>\n",
       "      <td>99</td>\n",
       "    </tr>\n",
       "    <tr>\n",
       "      <th>158</th>\n",
       "      <td>865</td>\n",
       "      <td>17</td>\n",
       "      <td>67</td>\n",
       "    </tr>\n",
       "    <tr>\n",
       "      <th>128</th>\n",
       "      <td>462</td>\n",
       "      <td>32</td>\n",
       "      <td>99</td>\n",
       "    </tr>\n",
       "    <tr>\n",
       "      <th>115</th>\n",
       "      <td>429</td>\n",
       "      <td>17</td>\n",
       "      <td>88</td>\n",
       "    </tr>\n",
       "    <tr>\n",
       "      <th>69</th>\n",
       "      <td>509</td>\n",
       "      <td>19</td>\n",
       "      <td>58</td>\n",
       "    </tr>\n",
       "    <tr>\n",
       "      <th>170</th>\n",
       "      <td>873</td>\n",
       "      <td>44</td>\n",
       "      <td>86</td>\n",
       "    </tr>\n",
       "    <tr>\n",
       "      <th>174</th>\n",
       "      <td>857</td>\n",
       "      <td>20</td>\n",
       "      <td>73</td>\n",
       "    </tr>\n",
       "    <tr>\n",
       "      <th>45</th>\n",
       "      <td>748</td>\n",
       "      <td>27</td>\n",
       "      <td>67</td>\n",
       "    </tr>\n",
       "    <tr>\n",
       "      <th>66</th>\n",
       "      <td>739</td>\n",
       "      <td>14</td>\n",
       "      <td>67</td>\n",
       "    </tr>\n",
       "    <tr>\n",
       "      <th>182</th>\n",
       "      <td>878</td>\n",
       "      <td>29</td>\n",
       "      <td>63</td>\n",
       "    </tr>\n",
       "    <tr>\n",
       "      <th>165</th>\n",
       "      <td>966</td>\n",
       "      <td>16</td>\n",
       "      <td>85</td>\n",
       "    </tr>\n",
       "    <tr>\n",
       "      <th>78</th>\n",
       "      <td>683</td>\n",
       "      <td>39</td>\n",
       "      <td>93</td>\n",
       "    </tr>\n",
       "    <tr>\n",
       "      <th>186</th>\n",
       "      <td>917</td>\n",
       "      <td>33</td>\n",
       "      <td>64</td>\n",
       "    </tr>\n",
       "    <tr>\n",
       "      <th>177</th>\n",
       "      <td>859</td>\n",
       "      <td>20</td>\n",
       "      <td>82</td>\n",
       "    </tr>\n",
       "    <tr>\n",
       "      <th>56</th>\n",
       "      <td>535</td>\n",
       "      <td>17</td>\n",
       "      <td>83</td>\n",
       "    </tr>\n",
       "    <tr>\n",
       "      <th>152</th>\n",
       "      <td>981</td>\n",
       "      <td>36</td>\n",
       "      <td>92</td>\n",
       "    </tr>\n",
       "    <tr>\n",
       "      <th>82</th>\n",
       "      <td>768</td>\n",
       "      <td>17</td>\n",
       "      <td>72</td>\n",
       "    </tr>\n",
       "    <tr>\n",
       "      <th>68</th>\n",
       "      <td>792</td>\n",
       "      <td>15</td>\n",
       "      <td>66</td>\n",
       "    </tr>\n",
       "    <tr>\n",
       "      <th>124</th>\n",
       "      <td>175</td>\n",
       "      <td>15</td>\n",
       "      <td>82</td>\n",
       "    </tr>\n",
       "    <tr>\n",
       "      <th>16</th>\n",
       "      <td>724</td>\n",
       "      <td>11</td>\n",
       "      <td>75</td>\n",
       "    </tr>\n",
       "    <tr>\n",
       "      <th>148</th>\n",
       "      <td>149</td>\n",
       "      <td>24</td>\n",
       "      <td>64</td>\n",
       "    </tr>\n",
       "    <tr>\n",
       "      <th>93</th>\n",
       "      <td>817</td>\n",
       "      <td>18</td>\n",
       "      <td>64</td>\n",
       "    </tr>\n",
       "    <tr>\n",
       "      <th>65</th>\n",
       "      <td>676</td>\n",
       "      <td>30</td>\n",
       "      <td>58</td>\n",
       "    </tr>\n",
       "    <tr>\n",
       "      <th>60</th>\n",
       "      <td>513</td>\n",
       "      <td>27</td>\n",
       "      <td>72</td>\n",
       "    </tr>\n",
       "    <tr>\n",
       "      <th>84</th>\n",
       "      <td>579</td>\n",
       "      <td>45</td>\n",
       "      <td>72</td>\n",
       "    </tr>\n",
       "    <tr>\n",
       "      <th>67</th>\n",
       "      <td>773</td>\n",
       "      <td>20</td>\n",
       "      <td>57</td>\n",
       "    </tr>\n",
       "    <tr>\n",
       "      <th>125</th>\n",
       "      <td>293</td>\n",
       "      <td>25</td>\n",
       "      <td>67</td>\n",
       "    </tr>\n",
       "    <tr>\n",
       "      <th>132</th>\n",
       "      <td>304</td>\n",
       "      <td>43</td>\n",
       "      <td>88</td>\n",
       "    </tr>\n",
       "    <tr>\n",
       "      <th>9</th>\n",
       "      <td>723</td>\n",
       "      <td>11</td>\n",
       "      <td>68</td>\n",
       "    </tr>\n",
       "    <tr>\n",
       "      <th>18</th>\n",
       "      <td>633</td>\n",
       "      <td>23</td>\n",
       "      <td>68</td>\n",
       "    </tr>\n",
       "    <tr>\n",
       "      <th>55</th>\n",
       "      <td>632</td>\n",
       "      <td>14</td>\n",
       "      <td>57</td>\n",
       "    </tr>\n",
       "    <tr>\n",
       "      <th>75</th>\n",
       "      <td>623</td>\n",
       "      <td>32</td>\n",
       "      <td>97</td>\n",
       "    </tr>\n",
       "    <tr>\n",
       "      <th>150</th>\n",
       "      <td>861</td>\n",
       "      <td>33</td>\n",
       "      <td>82</td>\n",
       "    </tr>\n",
       "    <tr>\n",
       "      <th>104</th>\n",
       "      <td>493</td>\n",
       "      <td>18</td>\n",
       "      <td>72</td>\n",
       "    </tr>\n",
       "    <tr>\n",
       "      <th>135</th>\n",
       "      <td>302</td>\n",
       "      <td>23</td>\n",
       "      <td>81</td>\n",
       "    </tr>\n",
       "    <tr>\n",
       "      <th>137</th>\n",
       "      <td>72</td>\n",
       "      <td>13</td>\n",
       "      <td>68</td>\n",
       "    </tr>\n",
       "    <tr>\n",
       "      <th>164</th>\n",
       "      <td>998</td>\n",
       "      <td>28</td>\n",
       "      <td>97</td>\n",
       "    </tr>\n",
       "    <tr>\n",
       "      <th>76</th>\n",
       "      <td>539</td>\n",
       "      <td>26</td>\n",
       "      <td>98</td>\n",
       "    </tr>\n",
       "    <tr>\n",
       "      <th>79</th>\n",
       "      <td>760</td>\n",
       "      <td>18</td>\n",
       "      <td>72</td>\n",
       "    </tr>\n",
       "    <tr>\n",
       "      <th>197</th>\n",
       "      <td>894</td>\n",
       "      <td>42</td>\n",
       "      <td>89</td>\n",
       "    </tr>\n",
       "    <tr>\n",
       "      <th>38</th>\n",
       "      <td>573</td>\n",
       "      <td>13</td>\n",
       "      <td>69</td>\n",
       "    </tr>\n",
       "    <tr>\n",
       "      <th>24</th>\n",
       "      <td>736</td>\n",
       "      <td>44</td>\n",
       "      <td>96</td>\n",
       "    </tr>\n",
       "    <tr>\n",
       "      <th>122</th>\n",
       "      <td>124</td>\n",
       "      <td>40</td>\n",
       "      <td>100</td>\n",
       "    </tr>\n",
       "    <tr>\n",
       "      <th>195</th>\n",
       "      <td>941</td>\n",
       "      <td>13</td>\n",
       "      <td>73</td>\n",
       "    </tr>\n",
       "    <tr>\n",
       "      <th>29</th>\n",
       "      <td>681</td>\n",
       "      <td>31</td>\n",
       "      <td>98</td>\n",
       "    </tr>\n",
       "    <tr>\n",
       "      <th>19</th>\n",
       "      <td>783</td>\n",
       "      <td>18</td>\n",
       "      <td>69</td>\n",
       "    </tr>\n",
       "    <tr>\n",
       "      <th>143</th>\n",
       "      <td>21</td>\n",
       "      <td>37</td>\n",
       "      <td>67</td>\n",
       "    </tr>\n",
       "    <tr>\n",
       "      <th>86</th>\n",
       "      <td>699</td>\n",
       "      <td>22</td>\n",
       "      <td>85</td>\n",
       "    </tr>\n",
       "    <tr>\n",
       "      <th>114</th>\n",
       "      <td>184</td>\n",
       "      <td>29</td>\n",
       "      <td>99</td>\n",
       "    </tr>\n",
       "    <tr>\n",
       "      <th>173</th>\n",
       "      <td>896</td>\n",
       "      <td>42</td>\n",
       "      <td>91</td>\n",
       "    </tr>\n",
       "    <tr>\n",
       "      <th>5</th>\n",
       "      <td>558</td>\n",
       "      <td>23</td>\n",
       "      <td>89</td>\n",
       "    </tr>\n",
       "    <tr>\n",
       "      <th>126</th>\n",
       "      <td>354</td>\n",
       "      <td>20</td>\n",
       "      <td>81</td>\n",
       "    </tr>\n",
       "    <tr>\n",
       "      <th>117</th>\n",
       "      <td>158</td>\n",
       "      <td>17</td>\n",
       "      <td>83</td>\n",
       "    </tr>\n",
       "    <tr>\n",
       "      <th>73</th>\n",
       "      <td>611</td>\n",
       "      <td>12</td>\n",
       "      <td>68</td>\n",
       "    </tr>\n",
       "    <tr>\n",
       "      <th>140</th>\n",
       "      <td>36</td>\n",
       "      <td>16</td>\n",
       "      <td>61</td>\n",
       "    </tr>\n",
       "    <tr>\n",
       "      <th>98</th>\n",
       "      <td>588</td>\n",
       "      <td>18</td>\n",
       "      <td>83</td>\n",
       "    </tr>\n",
       "    <tr>\n",
       "      <th>172</th>\n",
       "      <td>881</td>\n",
       "      <td>26</td>\n",
       "      <td>68</td>\n",
       "    </tr>\n",
       "    <tr>\n",
       "      <th>96</th>\n",
       "      <td>553</td>\n",
       "      <td>35</td>\n",
       "      <td>55</td>\n",
       "    </tr>\n",
       "  </tbody>\n",
       "</table>\n",
       "</div>"
      ],
      "text/plain": [
       "     moisture  temp  humidity\n",
       "95        843    41        92\n",
       "15        716    25        64\n",
       "30        661    35        99\n",
       "158       865    17        67\n",
       "128       462    32        99\n",
       "115       429    17        88\n",
       "69        509    19        58\n",
       "170       873    44        86\n",
       "174       857    20        73\n",
       "45        748    27        67\n",
       "66        739    14        67\n",
       "182       878    29        63\n",
       "165       966    16        85\n",
       "78        683    39        93\n",
       "186       917    33        64\n",
       "177       859    20        82\n",
       "56        535    17        83\n",
       "152       981    36        92\n",
       "82        768    17        72\n",
       "68        792    15        66\n",
       "124       175    15        82\n",
       "16        724    11        75\n",
       "148       149    24        64\n",
       "93        817    18        64\n",
       "65        676    30        58\n",
       "60        513    27        72\n",
       "84        579    45        72\n",
       "67        773    20        57\n",
       "125       293    25        67\n",
       "132       304    43        88\n",
       "9         723    11        68\n",
       "18        633    23        68\n",
       "55        632    14        57\n",
       "75        623    32        97\n",
       "150       861    33        82\n",
       "104       493    18        72\n",
       "135       302    23        81\n",
       "137        72    13        68\n",
       "164       998    28        97\n",
       "76        539    26        98\n",
       "79        760    18        72\n",
       "197       894    42        89\n",
       "38        573    13        69\n",
       "24        736    44        96\n",
       "122       124    40       100\n",
       "195       941    13        73\n",
       "29        681    31        98\n",
       "19        783    18        69\n",
       "143        21    37        67\n",
       "86        699    22        85\n",
       "114       184    29        99\n",
       "173       896    42        91\n",
       "5         558    23        89\n",
       "126       354    20        81\n",
       "117       158    17        83\n",
       "73        611    12        68\n",
       "140        36    16        61\n",
       "98        588    18        83\n",
       "172       881    26        68\n",
       "96        553    35        55"
      ]
     },
     "execution_count": 56,
     "metadata": {},
     "output_type": "execute_result"
    }
   ],
   "source": [
    "X_test\n"
   ]
  },
  {
   "cell_type": "code",
   "execution_count": 57,
   "id": "7596431d",
   "metadata": {},
   "outputs": [
    {
     "data": {
      "text/plain": [
       "169    1\n",
       "97     1\n",
       "31     0\n",
       "12     1\n",
       "35     1\n",
       "      ..\n",
       "106    0\n",
       "14     0\n",
       "92     1\n",
       "179    1\n",
       "102    0\n",
       "Name: pump, Length: 140, dtype: int64"
      ]
     },
     "execution_count": 57,
     "metadata": {},
     "output_type": "execute_result"
    }
   ],
   "source": [
    "y_train"
   ]
  },
  {
   "cell_type": "code",
   "execution_count": 58,
   "id": "86413571",
   "metadata": {},
   "outputs": [
    {
     "data": {
      "text/plain": [
       "95     0\n",
       "15     1\n",
       "30     0\n",
       "158    1\n",
       "128    0\n",
       "115    0\n",
       "69     1\n",
       "170    1\n",
       "174    1\n",
       "45     1\n",
       "66     1\n",
       "182    1\n",
       "165    1\n",
       "78     1\n",
       "186    1\n",
       "177    1\n",
       "56     1\n",
       "152    1\n",
       "82     1\n",
       "68     1\n",
       "124    0\n",
       "16     1\n",
       "148    0\n",
       "93     1\n",
       "65     1\n",
       "60     1\n",
       "84     1\n",
       "67     1\n",
       "125    0\n",
       "132    0\n",
       "9      1\n",
       "18     1\n",
       "55     1\n",
       "75     1\n",
       "150    1\n",
       "104    0\n",
       "135    0\n",
       "137    0\n",
       "164    0\n",
       "76     1\n",
       "79     1\n",
       "197    1\n",
       "38     1\n",
       "24     0\n",
       "122    0\n",
       "195    1\n",
       "29     0\n",
       "19     1\n",
       "143    0\n",
       "86     1\n",
       "114    0\n",
       "173    1\n",
       "5      1\n",
       "126    0\n",
       "117    0\n",
       "73     1\n",
       "140    0\n",
       "98     1\n",
       "172    1\n",
       "96     1\n",
       "Name: pump, dtype: int64"
      ]
     },
     "execution_count": 58,
     "metadata": {},
     "output_type": "execute_result"
    }
   ],
   "source": [
    "y_test"
   ]
  },
  {
   "cell_type": "code",
   "execution_count": 59,
   "id": "9d754759",
   "metadata": {},
   "outputs": [],
   "source": [
    "#Standardizing the dataset\n",
    "#because of gradient descent, we want all out independent features to be of the same unit and scale\n",
    "from sklearn.preprocessing import StandardScaler\n",
    "scaler=StandardScaler()"
   ]
  },
  {
   "cell_type": "code",
   "execution_count": 60,
   "id": "50f55df0",
   "metadata": {},
   "outputs": [],
   "source": [
    "X_train=scaler.fit_transform(X_train)"
   ]
  },
  {
   "cell_type": "code",
   "execution_count": 61,
   "id": "70cb96ec",
   "metadata": {},
   "outputs": [],
   "source": [
    "X_test=scaler.transform(X_test)"
   ]
  },
  {
   "cell_type": "code",
   "execution_count": 62,
   "id": "0e626bfa",
   "metadata": {},
   "outputs": [
    {
     "data": {
      "text/plain": [
       "array([[ 1.25573926e+00,  1.02111254e-01, -9.90467795e-02],\n",
       "       [ 6.88789259e-01,  1.02111254e-01, -6.05587387e-01],\n",
       "       [-3.29620932e-01,  2.83067906e-01,  1.48389262e+00],\n",
       "       [-4.66108896e-01,  1.45928615e+00,  9.77352011e-01],\n",
       "       [ 5.45301913e-01, -7.12193681e-01, -1.42871587e+00],\n",
       "       [-8.37076183e-01, -1.07410699e+00, -9.90467795e-02],\n",
       "       [ 2.09331540e-01,  8.25937863e-01,  1.42057504e+00],\n",
       "       [ 9.72264261e-01, -8.93150334e-01,  4.07493828e-01],\n",
       "       [ 7.34285247e-01, -1.16458531e+00, -1.23876315e+00],\n",
       "       [-1.93597928e+00, -1.52649862e+00, -6.05587387e-01],\n",
       "       [ 7.98429591e-02, -4.40758703e-01,  3.44176252e-01],\n",
       "       [-1.38302804e+00,  1.27832949e+00,  1.23062231e+00],\n",
       "       [ 7.44784321e-01,  1.16329276e-02, -6.05587387e-01],\n",
       "       [ 1.21839256e-01,  9.16416189e-01,  1.29393989e+00],\n",
       "       [-7.18086676e-01, -1.70745527e+00, -6.05587387e-01],\n",
       "       [-8.61574022e-01, -1.69323725e-01,  3.44176252e-01],\n",
       "       [ 5.87298209e-01,  1.16329276e-02,  5.97446556e-01],\n",
       "       [-1.61750736e+00,  9.16416189e-01, -6.05587387e-01],\n",
       "       [-1.92897989e+00,  1.18785117e+00,  1.23062231e+00],\n",
       "       [-1.67350242e+00,  1.16329276e-02,  1.04066959e+00],\n",
       "       [ 3.52818887e-01, -6.21715355e-01, -5.42269811e-01],\n",
       "       [-1.58136055e-01,  1.02111254e-01,  1.54223524e-01],\n",
       "       [ 6.43293271e-01,  7.35459537e-01,  9.14034435e-01],\n",
       "       [ 1.16824698e+00, -7.88453985e-02,  4.07493828e-01],\n",
       "       [ 1.21024327e+00,  6.44981210e-01,  7.87399283e-01],\n",
       "       [ 3.38820121e-01,  4.64024558e-01, -7.95540114e-01],\n",
       "       [ 9.89762718e-01, -1.70745527e+00,  3.44176252e-01],\n",
       "       [ 8.68423418e-02,  2.83067906e-01, -4.78952235e-01],\n",
       "       [ 1.33273247e+00, -6.21715355e-01, -7.95540114e-01],\n",
       "       [ 3.10822590e-01,  1.09737284e+00,  3.44176252e-01],\n",
       "       [-1.46487082e-02, -4.40758703e-01, -7.95540114e-01],\n",
       "       [-2.10396446e+00,  8.25937863e-01, -5.42269811e-01],\n",
       "       [-1.97447588e+00,  5.54502884e-01, -7.95540114e-01],\n",
       "       [ 5.69799752e-01, -7.12193681e-01, -1.11212799e+00],\n",
       "       [ 4.12313640e-01,  4.64024558e-01,  7.24081707e-01],\n",
       "       [ 9.58265495e-01,  5.54502884e-01,  1.42057504e+00],\n",
       "       [ 9.79263644e-01, -1.70745527e+00, -1.93525648e+00],\n",
       "       [-2.17630808e-01, -1.52649862e+00, -7.95540114e-01],\n",
       "       [ 2.58327219e-01, -1.34554196e+00, -6.05587387e-01],\n",
       "       [-1.29203606e+00,  3.73546232e-01,  9.14034435e-01],\n",
       "       [ 1.74334626e-01, -7.88453985e-02,  3.44176252e-01],\n",
       "       [ 4.15813332e-01, -1.70745527e+00, -6.05587387e-01],\n",
       "       [-1.86598545e+00,  1.92589580e-01, -6.05587387e-01],\n",
       "       [-1.51951600e+00,  7.35459537e-01, -6.05587387e-01],\n",
       "       [-1.65250427e+00, -1.70745527e+00, -6.05587387e-01],\n",
       "       [-2.03397063e+00, -8.02672007e-01, -9.22175266e-01],\n",
       "       [ 1.07840490e-01, -5.31237029e-01,  7.87399283e-01],\n",
       "       [ 6.58441935e-02,  1.16329276e-02, -1.99857406e+00],\n",
       "       [-1.16954686e+00, -3.50280377e-01,  9.14034435e-01],\n",
       "       [-1.73999656e+00,  1.27832949e+00,  1.42057504e+00],\n",
       "       [ 1.08425439e+00, -1.43602029e+00, -6.05587387e-01],\n",
       "       [-7.64932545e-03, -1.16458531e+00, -1.99857406e+00],\n",
       "       [ 1.33623216e+00,  1.45928615e+00,  9.77352011e-01],\n",
       "       [ 1.32573309e+00,  7.35459537e-01,  1.35725747e+00],\n",
       "       [ 1.46337095e-01,  1.00689451e+00,  9.14034435e-01],\n",
       "       [-2.14946045e+00, -5.31237029e-01, -6.05587387e-01],\n",
       "       [ 2.84974870e-03,  5.54502884e-01, -1.36539830e+00],\n",
       "       [-3.61118155e-01,  1.36880782e+00,  3.44176252e-01],\n",
       "       [ 9.86263027e-01, -5.31237029e-01, -3.26492558e+00],\n",
       "       [ 5.80298826e-01, -7.88453985e-02,  5.97446556e-01],\n",
       "       [ 2.02332157e-01,  1.45928615e+00,  7.24081707e-01],\n",
       "       [-5.53601181e-01, -1.69323725e-01, -6.68904963e-01],\n",
       "       [ 1.32923278e+00, -1.69323725e-01, -7.95540114e-01],\n",
       "       [ 1.02475963e+00,  1.18785117e+00,  3.44176252e-01],\n",
       "       [ 6.74790494e-01, -1.43602029e+00, -7.32222539e-01],\n",
       "       [ 6.04796666e-01, -1.25506364e+00,  5.34128980e-01],\n",
       "       [ 8.67273520e-01,  1.36880782e+00,  1.42057504e+00],\n",
       "       [-2.05846847e+00,  1.36880782e+00,  9.77352011e-01],\n",
       "       [ 4.40311171e-01,  9.16416189e-01,  1.29393989e+00],\n",
       "       [ 6.01296975e-01,  8.25937863e-01, -9.90467795e-02],\n",
       "       [ 1.01426056e+00, -9.83628660e-01,  3.44176252e-01],\n",
       "       [ 6.95788642e-01,  1.16329276e-02, -9.90467795e-02],\n",
       "       [ 6.64291420e-01,  1.36880782e+00, -2.88999507e-01],\n",
       "       [ 8.25277223e-01,  1.00689451e+00, -1.23876315e+00],\n",
       "       [ 3.80816418e-01,  8.25937863e-01,  5.34128980e-01],\n",
       "       [-2.22645366e+00,  1.18785117e+00,  9.77352011e-01],\n",
       "       [ 5.52301295e-01,  2.83067906e-01,  8.50716859e-01],\n",
       "       [-7.67082355e-01,  9.16416189e-01,  3.44176252e-01],\n",
       "       [-9.86413013e-02,  1.92589580e-01,  7.24081707e-01],\n",
       "       [-1.34453143e+00,  1.00689451e+00,  7.87399283e-01],\n",
       "       [ 8.84771977e-01,  9.16416189e-01, -7.95540114e-01],\n",
       "       [ 1.27673741e+00,  1.27832949e+00,  1.48389262e+00],\n",
       "       [ 1.29073618e+00, -7.12193681e-01,  4.07493828e-01],\n",
       "       [-3.75116920e-01,  1.18785117e+00, -2.25681931e-01],\n",
       "       [ 1.98832466e-01, -3.50280377e-01,  1.29393989e+00],\n",
       "       [ 1.04340799e-01, -6.21715355e-01, -5.42269811e-01],\n",
       "       [ 1.14839873e-01,  5.54502884e-01,  9.77352011e-01],\n",
       "       [-1.51251662e+00,  9.16416189e-01,  9.77352011e-01],\n",
       "       [ 2.86324750e-01, -2.59802051e-01, -7.95540114e-01],\n",
       "       [ 3.28321047e-01, -1.16458531e+00, -5.42269811e-01],\n",
       "       [ 1.07375531e+00,  1.09737284e+00,  1.48389262e+00],\n",
       "       [ 8.11278458e-01, -1.70745527e+00, -2.12520921e+00],\n",
       "       [-3.33120624e-01,  1.16329276e-02,  9.14034435e-01],\n",
       "       [ 6.34944008e-03,  1.45928615e+00,  1.48389262e+00],\n",
       "       [-1.89633277e-01,  3.73546232e-01, -2.88999507e-01],\n",
       "       [ 5.17304382e-01, -1.52649862e+00,  3.44176252e-01],\n",
       "       [ 1.15074852e+00,  9.16416189e-01, -7.95540114e-01],\n",
       "       [-1.50901693e+00,  1.27832949e+00,  9.77352011e-01],\n",
       "       [ 6.57292037e-01,  1.09737284e+00, -1.42871587e+00],\n",
       "       [ 4.50810245e-01, -1.43602029e+00, -6.68904963e-01],\n",
       "       [ 1.29423587e+00, -1.70745527e+00, -7.95540114e-01],\n",
       "       [-1.74699594e+00,  1.27832949e+00,  7.24081707e-01],\n",
       "       [ 1.26273865e+00,  6.44981210e-01,  1.35725747e+00],\n",
       "       [ 8.49775063e-01,  1.00689451e+00,  7.87399283e-01],\n",
       "       [-3.91465479e-02,  1.09737284e+00, -7.95540114e-01],\n",
       "       [-2.10631425e-01, -1.34554196e+00, -6.05587387e-01],\n",
       "       [-1.62100705e+00, -1.52649862e+00,  3.44176252e-01],\n",
       "       [ 4.71808394e-01,  1.00689451e+00,  9.77352011e-01],\n",
       "       [ 9.16269199e-01,  1.45928615e+00,  1.29393989e+00],\n",
       "       [-4.80107662e-01,  1.36880782e+00,  1.23062231e+00],\n",
       "       [ 3.49319195e-01,  1.92589580e-01,  5.34128980e-01],\n",
       "       [-5.66450048e-02, -1.25506364e+00, -6.05587387e-01],\n",
       "       [-4.03114451e-01,  3.73546232e-01,  1.35725747e+00],\n",
       "       [ 6.22295123e-01, -1.25506364e+00, -6.05587387e-01],\n",
       "       [ 1.00026179e+00, -9.83628660e-01,  4.07493828e-01],\n",
       "       [ 1.14724883e+00, -1.07410699e+00, -7.95540114e-01],\n",
       "       [-6.09596243e-01,  1.09737284e+00,  1.35725747e+00],\n",
       "       [ 1.63835552e-01, -1.61697694e+00, -1.42871587e+00],\n",
       "       [ 8.70773211e-01,  9.16416189e-01, -4.78952235e-01],\n",
       "       [ 1.31173432e+00,  5.54502884e-01, -1.55535103e+00],\n",
       "       [-4.13613526e-01, -9.83628660e-01, -7.95540114e-01],\n",
       "       [-4.14963407e-03, -1.34554196e+00, -1.99857406e+00],\n",
       "       [-1.98147526e+00, -8.02672007e-01, -2.69506739e+00],\n",
       "       [-1.97797557e+00,  7.35459537e-01,  1.29393989e+00],\n",
       "       [ 1.04225809e+00, -1.34554196e+00, -7.95540114e-01],\n",
       "       [-5.36102724e-01, -1.16458531e+00, -7.95540114e-01],\n",
       "       [ 3.24821356e-01, -2.59802051e-01, -1.23876315e+00],\n",
       "       [-1.95697742e+00, -8.02672007e-01, -7.95540114e-01],\n",
       "       [ 4.08813949e-01,  1.27832949e+00, -2.88999507e-01],\n",
       "       [-2.31629574e-01,  2.83067906e-01,  9.77352011e-01],\n",
       "       [-1.67700211e+00, -9.83628660e-01,  3.44176252e-01],\n",
       "       [ 1.18574544e+00, -1.70745527e+00,  5.97446556e-01],\n",
       "       [-1.81483996e-02,  6.44981210e-01, -1.42871587e+00],\n",
       "       [ 7.62282778e-01, -8.93150334e-01, -7.95540114e-01],\n",
       "       [-1.11490168e-02,  1.16329276e-02,  3.44176252e-01],\n",
       "       [-9.14069393e-01, -5.31237029e-01, -7.95540114e-01],\n",
       "       [ 2.19830614e-01,  1.45928615e+00,  1.23062231e+00],\n",
       "       [ 5.41802221e-01, -1.25506364e+00,  4.07493828e-01],\n",
       "       [ 1.03875840e+00, -7.88453985e-02,  3.44176252e-01],\n",
       "       [-7.21586367e-01, -8.93150334e-01,  3.44176252e-01]])"
      ]
     },
     "execution_count": 62,
     "metadata": {},
     "output_type": "execute_result"
    }
   ],
   "source": [
    "X_train"
   ]
  },
  {
   "cell_type": "code",
   "execution_count": 63,
   "id": "b15acb41",
   "metadata": {},
   "outputs": [
    {
     "data": {
      "text/plain": [
       "array([[ 0.70978741,  1.09737284,  0.97735201],\n",
       "       [ 0.2653266 , -0.35028038, -0.79554011],\n",
       "       [ 0.07284358,  0.55450288,  1.42057504],\n",
       "       [ 0.78678062, -1.07410699, -0.60558739],\n",
       "       [-0.62359501,  0.28306791,  1.42057504],\n",
       "       [-0.73908482, -1.07410699,  0.72408171],\n",
       "       [-0.45910951, -0.89315033, -1.17544557],\n",
       "       [ 0.81477815,  1.36880782,  0.59744656],\n",
       "       [ 0.75878309, -0.80267201, -0.22568193],\n",
       "       [ 0.37731673, -0.16932372, -0.60558739],\n",
       "       [ 0.3458195 , -1.34554196, -0.60558739],\n",
       "       [ 0.83227661,  0.01163293, -0.85885769],\n",
       "       [ 1.14024945, -1.16458531,  0.53412898],\n",
       "       [ 0.14983679,  0.91641619,  1.04066959],\n",
       "       [ 0.96876457,  0.37354623, -0.79554011],\n",
       "       [ 0.76578247, -0.80267201,  0.34417625],\n",
       "       [-0.36811754, -1.07410699,  0.40749383],\n",
       "       [ 1.19274482,  0.64498121,  0.97735201],\n",
       "       [ 0.44731055, -1.07410699, -0.28899951],\n",
       "       [ 0.53130315, -1.25506364, -0.66890496],\n",
       "       [-1.62800643, -1.25506364,  0.34417625],\n",
       "       [ 0.29332413, -1.61697694, -0.09904678],\n",
       "       [-1.71899841, -0.4407587 , -0.79554011],\n",
       "       [ 0.61879543, -0.98362866, -0.79554011],\n",
       "       [ 0.12533895,  0.10211125, -1.17544557],\n",
       "       [-0.44511075, -0.16932372, -0.28899951],\n",
       "       [-0.21413112,  1.45928615, -0.28899951],\n",
       "       [ 0.46480901, -0.80267201, -1.23876315],\n",
       "       [-1.21504285, -0.35028038, -0.60558739],\n",
       "       [-1.17654625,  1.27832949,  0.72408171],\n",
       "       [ 0.28982444, -1.61697694, -0.54226981],\n",
       "       [-0.02514778, -0.53123703, -0.54226981],\n",
       "       [-0.02864747, -1.34554196, -1.23876315],\n",
       "       [-0.0601447 ,  0.28306791,  1.29393989],\n",
       "       [ 0.77278185,  0.37354623,  0.34417625],\n",
       "       [-0.51510458, -0.98362866, -0.28899951],\n",
       "       [-1.18354563, -0.53123703,  0.28085868],\n",
       "       [-1.98847465, -1.43602029, -0.54226981],\n",
       "       [ 1.25223957, -0.0788454 ,  1.29393989],\n",
       "       [-0.35411877, -0.25980205,  1.35725747],\n",
       "       [ 0.41931302, -0.98362866, -0.28899951],\n",
       "       [ 0.88827167,  1.18785117,  0.78739928],\n",
       "       [-0.23512927, -1.43602029, -0.47895223],\n",
       "       [ 0.33532043,  1.36880782,  1.23062231],\n",
       "       [-1.80649069,  1.00689451,  1.48389262],\n",
       "       [ 1.05275716, -1.43602029, -0.22568193],\n",
       "       [ 0.1428374 ,  0.19258958,  1.35725747],\n",
       "       [ 0.49980592, -0.98362866, -0.47895223],\n",
       "       [-2.16695891,  0.73545954, -0.60558739],\n",
       "       [ 0.20583185, -0.62171536,  0.53412898],\n",
       "       [-1.59650921,  0.01163293,  1.42057504],\n",
       "       [ 0.89527105,  1.18785117,  0.91403444],\n",
       "       [-0.28762464, -0.53123703,  0.78739928],\n",
       "       [-1.00156168, -0.80267201,  0.28085868],\n",
       "       [-1.68750119, -1.07410699,  0.40749383],\n",
       "       [-0.10214099, -1.52649862, -0.54226981],\n",
       "       [-2.11446354, -1.16458531, -0.98549284],\n",
       "       [-0.18263389, -0.98362866,  0.40749383],\n",
       "       [ 0.84277568, -0.25980205, -0.54226981],\n",
       "       [-0.30512309,  0.55450288, -1.3653983 ]])"
      ]
     },
     "execution_count": 63,
     "metadata": {},
     "output_type": "execute_result"
    }
   ],
   "source": [
    "X_test"
   ]
  },
  {
   "cell_type": "code",
   "execution_count": 64,
   "id": "81ea608a",
   "metadata": {},
   "outputs": [
    {
     "data": {
      "text/plain": [
       "RandomForestClassifier(criterion='entropy', n_estimators=60)"
      ]
     },
     "execution_count": 64,
     "metadata": {},
     "output_type": "execute_result"
    }
   ],
   "source": [
    "#Fitting Decision Tree classifier to the training set  \n",
    "from sklearn.ensemble import RandomForestClassifier  \n",
    "model= RandomForestClassifier(n_estimators= 60, criterion=\"entropy\")  \n",
    "model.fit(X_train, y_train)  "
   ]
  },
  {
   "cell_type": "code",
   "execution_count": 65,
   "id": "071eb344",
   "metadata": {},
   "outputs": [
    {
     "data": {
      "text/plain": [
       "0.9333333333333333"
      ]
     },
     "execution_count": 65,
     "metadata": {},
     "output_type": "execute_result"
    }
   ],
   "source": [
    "model.score(X_test,y_test)"
   ]
  },
  {
   "cell_type": "code",
   "execution_count": 66,
   "id": "4b45e3f6",
   "metadata": {},
   "outputs": [],
   "source": [
    "y_pred= model.predict(X_test)  "
   ]
  },
  {
   "cell_type": "code",
   "execution_count": 67,
   "id": "27f3da30",
   "metadata": {},
   "outputs": [
    {
     "data": {
      "text/plain": [
       "array([1, 1, 0, 1, 0, 0, 1, 1, 1, 1, 1, 1, 1, 0, 1, 1, 1, 1, 1, 1, 0, 1,\n",
       "       0, 1, 1, 1, 1, 1, 0, 0, 1, 1, 1, 0, 1, 0, 0, 0, 0, 0, 1, 1, 1, 0,\n",
       "       0, 1, 0, 1, 0, 1, 0, 1, 1, 0, 0, 1, 0, 1, 1, 1], dtype=int64)"
      ]
     },
     "execution_count": 67,
     "metadata": {},
     "output_type": "execute_result"
    }
   ],
   "source": [
    "y_pred"
   ]
  },
  {
   "cell_type": "code",
   "execution_count": 68,
   "id": "b3c21eef",
   "metadata": {},
   "outputs": [],
   "source": [
    "import pymysql\n",
    "import pandas as pd"
   ]
  },
  {
   "cell_type": "code",
   "execution_count": 69,
   "id": "630d8779",
   "metadata": {},
   "outputs": [
    {
     "name": "stdout",
     "output_type": "stream",
     "text": [
      "Empty DataFrame\n",
      "Columns: [moisture, temperature, humidity, pumpstatus]\n",
      "Index: []\n"
     ]
    }
   ],
   "source": [
    "conn=pymysql.connect(host='localhost',port=int(3306),user='root',passwd='teameureka',db='irri')\n",
    "\n",
    "dataset=pd.read_sql_query(\"SELECT * FROM raw \",conn)\n",
    "\n",
    "print(dataset)"
   ]
  },
  {
   "cell_type": "code",
   "execution_count": 70,
   "id": "3d98ee41",
   "metadata": {},
   "outputs": [],
   "source": [
    "X=df.iloc[:,:-1]\n",
    "y=df.iloc[:,-1]"
   ]
  },
  {
   "cell_type": "code",
   "execution_count": 71,
   "id": "f807f535",
   "metadata": {},
   "outputs": [],
   "source": [
    "y_pred= model.predict(X)"
   ]
  },
  {
   "cell_type": "code",
   "execution_count": 72,
   "id": "7154d69d",
   "metadata": {},
   "outputs": [
    {
     "ename": "SyntaxError",
     "evalue": "invalid syntax (<ipython-input-72-f52f0d3f7c99>, line 1)",
     "output_type": "error",
     "traceback": [
      "\u001b[1;36m  File \u001b[1;32m\"<ipython-input-72-f52f0d3f7c99>\"\u001b[1;36m, line \u001b[1;32m1\u001b[0m\n\u001b[1;33m    INSERT INTO table_name (moisture, temperature, humidity, pumpstatus)\u001b[0m\n\u001b[1;37m           ^\u001b[0m\n\u001b[1;31mSyntaxError\u001b[0m\u001b[1;31m:\u001b[0m invalid syntax\n"
     ]
    }
   ],
   "source": [
    "INSERT INTO table_name (moisture, temperature, humidity, pumpstatus)\n",
    "VALUES (X[0],X[1] ,X[2] ,y_pred);\n"
   ]
  },
  {
   "cell_type": "code",
   "execution_count": 73,
   "id": "8fa07b12",
   "metadata": {},
   "outputs": [
    {
     "ename": "ModuleNotFoundError",
     "evalue": "No module named 'python_to_mysql_config'",
     "output_type": "error",
     "traceback": [
      "\u001b[1;31m---------------------------------------------------------------------------\u001b[0m",
      "\u001b[1;31mModuleNotFoundError\u001b[0m                       Traceback (most recent call last)",
      "\u001b[1;32m<ipython-input-73-19caadeff8e3>\u001b[0m in \u001b[0;36m<module>\u001b[1;34m\u001b[0m\n\u001b[0;32m      2\u001b[0m \u001b[1;32mfrom\u001b[0m \u001b[0mmysql\u001b[0m\u001b[1;33m.\u001b[0m\u001b[0mconnector\u001b[0m \u001b[1;32mimport\u001b[0m \u001b[0mMySQLConnection\u001b[0m\u001b[1;33m\u001b[0m\u001b[1;33m\u001b[0m\u001b[0m\n\u001b[0;32m      3\u001b[0m \u001b[1;32mimport\u001b[0m \u001b[0mpandas\u001b[0m \u001b[1;32mas\u001b[0m \u001b[0mpd\u001b[0m\u001b[1;33m\u001b[0m\u001b[1;33m\u001b[0m\u001b[0m\n\u001b[1;32m----> 4\u001b[1;33m \u001b[1;32mfrom\u001b[0m \u001b[0mpython_to_mysql_config\u001b[0m \u001b[1;32mimport\u001b[0m \u001b[0mread_db_config\u001b[0m\u001b[1;33m\u001b[0m\u001b[1;33m\u001b[0m\u001b[0m\n\u001b[0m\u001b[0;32m      5\u001b[0m \u001b[1;32mimport\u001b[0m \u001b[0mcsv\u001b[0m\u001b[1;33m\u001b[0m\u001b[1;33m\u001b[0m\u001b[0m\n",
      "\u001b[1;31mModuleNotFoundError\u001b[0m: No module named 'python_to_mysql_config'"
     ]
    }
   ],
   "source": [
    "import mysql.connector as mysql\n",
    "from mysql.connector import MySQLConnection\n",
    "import pandas as pd\n",
    "from python_to_mysql_config import read_db_config\n",
    "import csv\n"
   ]
  },
  {
   "cell_type": "code",
   "execution_count": null,
   "id": "35906314",
   "metadata": {},
   "outputs": [],
   "source": [
    "db_config=read_db_config()\n",
    "conn=MySQLConnection(**read_db_config())\n",
    "mycursor=conn.cursor()"
   ]
  },
  {
   "cell_type": "code",
   "execution_count": null,
   "id": "ba3c26bf",
   "metadata": {},
   "outputs": [],
   "source": [
    "pip install python_to_mysql_config"
   ]
  },
  {
   "cell_type": "code",
   "execution_count": null,
   "id": "bdf2558c",
   "metadata": {},
   "outputs": [],
   "source": [
    "import mysql.connector\n",
    "import pandas as pd"
   ]
  },
  {
   "cell_type": "code",
   "execution_count": null,
   "id": "a2ba38aa",
   "metadata": {},
   "outputs": [],
   "source": [
    "con = mysql.connector.connect(host=\"localhost\",user=\"root\",passwd=\"teameureka\",database=\"irri\")"
   ]
  },
  {
   "cell_type": "code",
   "execution_count": null,
   "id": "2fa354e3",
   "metadata": {},
   "outputs": [],
   "source": [
    "print(con)"
   ]
  },
  {
   "cell_type": "code",
   "execution_count": null,
   "id": "91dc4bcc",
   "metadata": {},
   "outputs": [],
   "source": [
    "c=con.cursor()"
   ]
  },
  {
   "cell_type": "code",
   "execution_count": null,
   "id": "7197c048",
   "metadata": {},
   "outputs": [],
   "source": []
  },
  {
   "cell_type": "code",
   "execution_count": null,
   "id": "7f620e82",
   "metadata": {},
   "outputs": [],
   "source": []
  },
  {
   "cell_type": "code",
   "execution_count": null,
   "id": "fa81fb0a",
   "metadata": {},
   "outputs": [],
   "source": []
  },
  {
   "cell_type": "code",
   "execution_count": null,
   "id": "cef8dc7e",
   "metadata": {},
   "outputs": [],
   "source": []
  },
  {
   "cell_type": "code",
   "execution_count": null,
   "id": "9e783da5",
   "metadata": {},
   "outputs": [],
   "source": []
  },
  {
   "cell_type": "code",
   "execution_count": null,
   "id": "8f28add8",
   "metadata": {},
   "outputs": [],
   "source": []
  },
  {
   "cell_type": "code",
   "execution_count": null,
   "id": "83d09d1f",
   "metadata": {},
   "outputs": [],
   "source": []
  }
 ],
 "metadata": {
  "kernelspec": {
   "display_name": "Python 3",
   "language": "python",
   "name": "python3"
  },
  "language_info": {
   "codemirror_mode": {
    "name": "ipython",
    "version": 3
   },
   "file_extension": ".py",
   "mimetype": "text/x-python",
   "name": "python",
   "nbconvert_exporter": "python",
   "pygments_lexer": "ipython3",
   "version": "3.8.8"
  }
 },
 "nbformat": 4,
 "nbformat_minor": 5
}
